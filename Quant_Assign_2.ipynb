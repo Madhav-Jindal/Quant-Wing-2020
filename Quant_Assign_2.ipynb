{
  "nbformat": 4,
  "nbformat_minor": 0,
  "metadata": {
    "colab": {
      "name": "Q2.ipynb",
      "provenance": [],
      "collapsed_sections": [],
      "include_colab_link": true
    },
    "kernelspec": {
      "name": "python3",
      "display_name": "Python 3"
    }
  },
  "cells": [
    {
      "cell_type": "markdown",
      "metadata": {
        "id": "view-in-github",
        "colab_type": "text"
      },
      "source": [
        "<a href=\"https://colab.research.google.com/github/Madhav-Jindal/Quant-Wing-2020/blob/master/Quant_Assign_2.ipynb\" target=\"_parent\"><img src=\"https://colab.research.google.com/assets/colab-badge.svg\" alt=\"Open In Colab\"/></a>"
      ]
    },
    {
      "cell_type": "code",
      "metadata": {
        "id": "F4ZxEvx7CKCj",
        "colab_type": "code",
        "colab": {
          "base_uri": "https://localhost:8080/",
          "height": 53
        },
        "outputId": "71c16d51-642c-46aa-d2ea-235bebaa9b96"
      },
      "source": [
        "'''\n",
        "  I have used the MACD crossover strategy for year 2017 on GOOGL stock earning a profit of 55 dollar.\n",
        "  This can be certainly be improved with the use of histograms and divergence to predict better.\n",
        "  I was also thinking that multiple starts, like rsi and macd may be implemented together to get a robust strategy\n",
        "'''"
      ],
      "execution_count": 229,
      "outputs": [
        {
          "output_type": "execute_result",
          "data": {
            "application/vnd.google.colaboratory.intrinsic+json": {
              "type": "string"
            },
            "text/plain": [
              "'\\n  I have used the MACD crossover strategy for year 2017 on GOOGL stock earning a profit of 55 dollars.\\n  This can be certainly be improved with the use of histograms and divergence to predict better.\\n  I was also thinking that multiple starts, like rsi and macd may be implemented together to get a robust strategy\\n'"
            ]
          },
          "metadata": {
            "tags": []
          },
          "execution_count": 229
        }
      ]
    },
    {
      "cell_type": "code",
      "metadata": {
        "id": "Hj0QTeLslpp5",
        "colab_type": "code",
        "colab": {
          "base_uri": "https://localhost:8080/",
          "height": 320
        },
        "outputId": "4a071acb-573d-47b6-ebab-39e62b8d310b"
      },
      "source": [
        "!pip install quandl"
      ],
      "execution_count": 2,
      "outputs": [
        {
          "output_type": "stream",
          "text": [
            "Collecting quandl\n",
            "  Downloading https://files.pythonhosted.org/packages/1b/29/185269dbd2e2698c8098b35c52ce73a2c52cf76163e709f9f7789d03ebbb/Quandl-3.5.2-py2.py3-none-any.whl\n",
            "Requirement already satisfied: numpy>=1.8 in /usr/local/lib/python3.6/dist-packages (from quandl) (1.18.5)\n",
            "Collecting inflection>=0.3.1\n",
            "  Downloading https://files.pythonhosted.org/packages/d2/cd/f04c661d1b5ba6b7d77008e8fedd28a27a683eeeffcd93c6b2dbe54ea983/inflection-0.5.0-py2.py3-none-any.whl\n",
            "Requirement already satisfied: python-dateutil in /usr/local/lib/python3.6/dist-packages (from quandl) (2.8.1)\n",
            "Requirement already satisfied: more-itertools in /usr/local/lib/python3.6/dist-packages (from quandl) (8.4.0)\n",
            "Requirement already satisfied: pandas>=0.14 in /usr/local/lib/python3.6/dist-packages (from quandl) (1.0.5)\n",
            "Requirement already satisfied: requests>=2.7.0 in /usr/local/lib/python3.6/dist-packages (from quandl) (2.23.0)\n",
            "Requirement already satisfied: six in /usr/local/lib/python3.6/dist-packages (from quandl) (1.15.0)\n",
            "Requirement already satisfied: pytz>=2017.2 in /usr/local/lib/python3.6/dist-packages (from pandas>=0.14->quandl) (2018.9)\n",
            "Requirement already satisfied: idna<3,>=2.5 in /usr/local/lib/python3.6/dist-packages (from requests>=2.7.0->quandl) (2.10)\n",
            "Requirement already satisfied: chardet<4,>=3.0.2 in /usr/local/lib/python3.6/dist-packages (from requests>=2.7.0->quandl) (3.0.4)\n",
            "Requirement already satisfied: urllib3!=1.25.0,!=1.25.1,<1.26,>=1.21.1 in /usr/local/lib/python3.6/dist-packages (from requests>=2.7.0->quandl) (1.24.3)\n",
            "Requirement already satisfied: certifi>=2017.4.17 in /usr/local/lib/python3.6/dist-packages (from requests>=2.7.0->quandl) (2020.6.20)\n",
            "Installing collected packages: inflection, quandl\n",
            "Successfully installed inflection-0.5.0 quandl-3.5.2\n"
          ],
          "name": "stdout"
        }
      ]
    },
    {
      "cell_type": "code",
      "metadata": {
        "id": "pHlNfLxOluFH",
        "colab_type": "code",
        "colab": {
          "base_uri": "https://localhost:8080/",
          "height": 444
        },
        "outputId": "10929ef3-2be3-4120-8ca0-4773fbb24452"
      },
      "source": [
        "import quandl\n",
        "import pandas as pd\n",
        "import numpy as np\n",
        "import matplotlib.pyplot as plt\n",
        "\n",
        "quandl.ApiConfig.api_key = '5Av1EMy2LELvBBqUCpCg'\n",
        "data = quandl.get_table('WIKI/PRICES',ticker='GOOGL' ,\n",
        "                        qopts = { 'columns': ['date', 'adj_close'] },\n",
        "                        date = { 'gte': '2017-1-1', 'lte': '2017-12-31' }, paginate=True)\n",
        "\n",
        "\n",
        "data=data.reindex(index=data.index[::-1])\n",
        "data"
      ],
      "execution_count": 253,
      "outputs": [
        {
          "output_type": "execute_result",
          "data": {
            "text/html": [
              "<div>\n",
              "<style scoped>\n",
              "    .dataframe tbody tr th:only-of-type {\n",
              "        vertical-align: middle;\n",
              "    }\n",
              "\n",
              "    .dataframe tbody tr th {\n",
              "        vertical-align: top;\n",
              "    }\n",
              "\n",
              "    .dataframe thead th {\n",
              "        text-align: right;\n",
              "    }\n",
              "</style>\n",
              "<table border=\"1\" class=\"dataframe\">\n",
              "  <thead>\n",
              "    <tr style=\"text-align: right;\">\n",
              "      <th></th>\n",
              "      <th>date</th>\n",
              "      <th>adj_close</th>\n",
              "    </tr>\n",
              "    <tr>\n",
              "      <th>None</th>\n",
              "      <th></th>\n",
              "      <th></th>\n",
              "    </tr>\n",
              "  </thead>\n",
              "  <tbody>\n",
              "    <tr>\n",
              "      <th>249</th>\n",
              "      <td>2017-01-03</td>\n",
              "      <td>808.01</td>\n",
              "    </tr>\n",
              "    <tr>\n",
              "      <th>248</th>\n",
              "      <td>2017-01-04</td>\n",
              "      <td>807.77</td>\n",
              "    </tr>\n",
              "    <tr>\n",
              "      <th>247</th>\n",
              "      <td>2017-01-05</td>\n",
              "      <td>813.02</td>\n",
              "    </tr>\n",
              "    <tr>\n",
              "      <th>246</th>\n",
              "      <td>2017-01-06</td>\n",
              "      <td>825.21</td>\n",
              "    </tr>\n",
              "    <tr>\n",
              "      <th>245</th>\n",
              "      <td>2017-01-09</td>\n",
              "      <td>827.18</td>\n",
              "    </tr>\n",
              "    <tr>\n",
              "      <th>...</th>\n",
              "      <td>...</td>\n",
              "      <td>...</td>\n",
              "    </tr>\n",
              "    <tr>\n",
              "      <th>4</th>\n",
              "      <td>2017-12-22</td>\n",
              "      <td>1068.86</td>\n",
              "    </tr>\n",
              "    <tr>\n",
              "      <th>3</th>\n",
              "      <td>2017-12-26</td>\n",
              "      <td>1065.85</td>\n",
              "    </tr>\n",
              "    <tr>\n",
              "      <th>2</th>\n",
              "      <td>2017-12-27</td>\n",
              "      <td>1060.20</td>\n",
              "    </tr>\n",
              "    <tr>\n",
              "      <th>1</th>\n",
              "      <td>2017-12-28</td>\n",
              "      <td>1055.95</td>\n",
              "    </tr>\n",
              "    <tr>\n",
              "      <th>0</th>\n",
              "      <td>2017-12-29</td>\n",
              "      <td>1053.40</td>\n",
              "    </tr>\n",
              "  </tbody>\n",
              "</table>\n",
              "<p>250 rows × 2 columns</p>\n",
              "</div>"
            ],
            "text/plain": [
              "           date  adj_close\n",
              "None                      \n",
              "249  2017-01-03     808.01\n",
              "248  2017-01-04     807.77\n",
              "247  2017-01-05     813.02\n",
              "246  2017-01-06     825.21\n",
              "245  2017-01-09     827.18\n",
              "...         ...        ...\n",
              "4    2017-12-22    1068.86\n",
              "3    2017-12-26    1065.85\n",
              "2    2017-12-27    1060.20\n",
              "1    2017-12-28    1055.95\n",
              "0    2017-12-29    1053.40\n",
              "\n",
              "[250 rows x 2 columns]"
            ]
          },
          "metadata": {
            "tags": []
          },
          "execution_count": 253
        }
      ]
    },
    {
      "cell_type": "code",
      "metadata": {
        "id": "QLCbP_mMlyqJ",
        "colab_type": "code",
        "colab": {
          "base_uri": "https://localhost:8080/",
          "height": 319
        },
        "outputId": "4defa73d-e7f4-4643-a6e6-40cba4b760ff"
      },
      "source": [
        "plt.figure(figsize=(14.2,4.5))\n",
        "plt.plot(data['date'],data['adj_close'])\n",
        "plt.xticks(rotation=45)\n",
        "plt.show()"
      ],
      "execution_count": 254,
      "outputs": [
        {
          "output_type": "display_data",
          "data": {
            "image/png": "[encoded data removed]",
            "text/plain": [
              "<Figure size 1022.4x324 with 1 Axes>"
            ]
          },
          "metadata": {
            "tags": [],
            "needs_background": "light"
          }
        }
      ]
    },
    {
      "cell_type": "code",
      "metadata": {
        "id": "zfjGtH0Yl0jl",
        "colab_type": "code",
        "colab": {}
      },
      "source": [
        "#Calculating macd and signal line\n",
        "\n",
        "# Short term\n",
        "sema=data.ewm(span=12,adjust=False).mean()\n",
        "\n",
        "#Long term\n",
        "lema=data.ewm(span=26,adjust=False).mean()\n",
        "\n",
        "#MACD\n",
        "macd=sema-lema\n",
        "\n",
        "#Signal\n",
        "\n",
        "signal=macd.ewm(span=9,adjust=9).mean()"
      ],
      "execution_count": 255,
      "outputs": []
    },
    {
      "cell_type": "code",
      "metadata": {
        "id": "8e2-gJqtl6V9",
        "colab_type": "code",
        "colab": {
          "base_uri": "https://localhost:8080/",
          "height": 395
        },
        "outputId": "21851994-b72f-481f-84e8-cd540f723dc5"
      },
      "source": [
        "plt.figure(figsize=(14.2,5.5))\n",
        "plt.plot(data['date'],macd,label='MACD',color='red')\n",
        "plt.plot(data['date'],signal,label='SIGNAL',color='blue')\n",
        "plt.xticks(rotation=45)\n",
        "plt.legend(loc='upper left')"
      ],
      "execution_count": 256,
      "outputs": [
        {
          "output_type": "execute_result",
          "data": {
            "text/plain": [
              "<matplotlib.legend.Legend at 0x7fccc834a400>"
            ]
          },
          "metadata": {
            "tags": []
          },
          "execution_count": 256
        },
        {
          "output_type": "display_data",
          "data": {
            "image/png": "[encoded data removed]",
            "text/plain": [
              "<Figure size 1022.4x396 with 1 Axes>"
            ]
          },
          "metadata": {
            "tags": [],
            "needs_background": "light"
          }
        }
      ]
    },
    {
      "cell_type": "code",
      "metadata": {
        "id": "CStmfxUil73y",
        "colab_type": "code",
        "colab": {
          "base_uri": "https://localhost:8080/",
          "height": 232
        },
        "outputId": "7adb7b1f-c9b4-4d3c-d764-dd26aae9cd01"
      },
      "source": [
        "data['MACD']=macd\n",
        "data['SIGNAL']=signal\n",
        "data.head()"
      ],
      "execution_count": 257,
      "outputs": [
        {
          "output_type": "execute_result",
          "data": {
            "text/html": [
              "<div>\n",
              "<style scoped>\n",
              "    .dataframe tbody tr th:only-of-type {\n",
              "        vertical-align: middle;\n",
              "    }\n",
              "\n",
              "    .dataframe tbody tr th {\n",
              "        vertical-align: top;\n",
              "    }\n",
              "\n",
              "    .dataframe thead th {\n",
              "        text-align: right;\n",
              "    }\n",
              "</style>\n",
              "<table border=\"1\" class=\"dataframe\">\n",
              "  <thead>\n",
              "    <tr style=\"text-align: right;\">\n",
              "      <th></th>\n",
              "      <th>date</th>\n",
              "      <th>adj_close</th>\n",
              "      <th>MACD</th>\n",
              "      <th>SIGNAL</th>\n",
              "    </tr>\n",
              "    <tr>\n",
              "      <th>None</th>\n",
              "      <th></th>\n",
              "      <th></th>\n",
              "      <th></th>\n",
              "      <th></th>\n",
              "    </tr>\n",
              "  </thead>\n",
              "  <tbody>\n",
              "    <tr>\n",
              "      <th>249</th>\n",
              "      <td>2017-01-03</td>\n",
              "      <td>808.01</td>\n",
              "      <td>0.000000</td>\n",
              "      <td>0.000000</td>\n",
              "    </tr>\n",
              "    <tr>\n",
              "      <th>248</th>\n",
              "      <td>2017-01-04</td>\n",
              "      <td>807.77</td>\n",
              "      <td>-0.019145</td>\n",
              "      <td>-0.010636</td>\n",
              "    </tr>\n",
              "    <tr>\n",
              "      <th>247</th>\n",
              "      <td>2017-01-05</td>\n",
              "      <td>813.02</td>\n",
              "      <td>0.384876</td>\n",
              "      <td>0.151459</td>\n",
              "    </tr>\n",
              "    <tr>\n",
              "      <th>246</th>\n",
              "      <td>2017-01-06</td>\n",
              "      <td>825.21</td>\n",
              "      <td>1.669453</td>\n",
              "      <td>0.665685</td>\n",
              "    </tr>\n",
              "    <tr>\n",
              "      <th>245</th>\n",
              "      <td>2017-01-09</td>\n",
              "      <td>827.18</td>\n",
              "      <td>2.814014</td>\n",
              "      <td>1.304764</td>\n",
              "    </tr>\n",
              "  </tbody>\n",
              "</table>\n",
              "</div>"
            ],
            "text/plain": [
              "           date  adj_close      MACD    SIGNAL\n",
              "None                                          \n",
              "249  2017-01-03     808.01  0.000000  0.000000\n",
              "248  2017-01-04     807.77 -0.019145 -0.010636\n",
              "247  2017-01-05     813.02  0.384876  0.151459\n",
              "246  2017-01-06     825.21  1.669453  0.665685\n",
              "245  2017-01-09     827.18  2.814014  1.304764"
            ]
          },
          "metadata": {
            "tags": []
          },
          "execution_count": 257
        }
      ]
    },
    {
      "cell_type": "code",
      "metadata": {
        "id": "y7D4r88Ul8qW",
        "colab_type": "code",
        "colab": {}
      },
      "source": [
        "#when to buy and cell asset\n",
        "\n",
        "def bs(signal):\n",
        "    b=[]\n",
        "    s=[]\n",
        "    flag=-1\n",
        "    \n",
        "    \n",
        "    for i in reversed(range(0,len(signal))):\n",
        "        if signal['MACD'][i]>signal['SIGNAL'][i]:\n",
        "            s.append(np.nan)\n",
        "            if flag!=1:\n",
        "                b.append(signal['adj_close'][i])\n",
        "                flag=1\n",
        "            else:\n",
        "                b.append(np.nan) \n",
        "        elif signal['MACD'][i]<signal['SIGNAL'][i]:\n",
        "            b.append(np.nan)\n",
        "            if flag!=0:\n",
        "                s.append(signal['adj_close'][i])\n",
        "                flag=0\n",
        "            else:\n",
        "                s.append(np.nan)\n",
        "        else:\n",
        "            s.append(np.nan)\n",
        "            b.append(np.nan)\n",
        "            \n",
        "    # return(b[::-1],s[::-1])\n",
        "    return(b,s)"
      ],
      "execution_count": 258,
      "outputs": []
    },
    {
      "cell_type": "code",
      "metadata": {
        "id": "vIP__eWrmA1-",
        "colab_type": "code",
        "colab": {}
      },
      "source": [
        "\n",
        "a=bs(data)\n",
        "data.head()\n",
        "data['buy_signal']=a[0]\n",
        "data['sell_signal']=a[1]\n"
      ],
      "execution_count": 259,
      "outputs": []
    },
    {
      "cell_type": "code",
      "metadata": {
        "id": "BIZHbiVpmBg_",
        "colab_type": "code",
        "colab": {
          "base_uri": "https://localhost:8080/",
          "height": 373
        },
        "outputId": "cb78b844-173b-4f61-f59e-62c9591542ad"
      },
      "source": [
        "\n",
        "plt.figure(figsize=(14.2,5.5))\n",
        "plt.scatter(data['date'],data['buy_signal'],label='BUY',color='green',marker='^')\n",
        "plt.scatter(data['date'],data['sell_signal'],label='SELL',color='red',marker='v')\n",
        "# plt.plot(data['date'],macd,label='MACD',color='red')\n",
        "# plt.plot(data['date'],signal,label='SIGNAL',color='blue')\n",
        "plt.plot(data['date'],data['adj_close'])\n",
        "plt.xticks(rotation=45)\n",
        "plt.legend(loc='upper left')\n",
        "plt.show()"
      ],
      "execution_count": 260,
      "outputs": [
        {
          "output_type": "display_data",
          "data": {
            "image/png": "[encoded data removed]",
            "text/plain": [
              "<Figure size 1022.4x396 with 1 Axes>"
            ]
          },
          "metadata": {
            "tags": [],
            "needs_background": "light"
          }
        }
      ]
    },
    {
      "cell_type": "code",
      "metadata": {
        "id": "YLykeh9EGeV4",
        "colab_type": "code",
        "colab": {
          "base_uri": "https://localhost:8080/",
          "height": 444
        },
        "outputId": "631937e6-e48b-4705-a385-febcabb0d1e4"
      },
      "source": [
        "data\n"
      ],
      "execution_count": 250,
      "outputs": [
        {
          "output_type": "execute_result",
          "data": {
            "text/html": [
              "<div>\n",
              "<style scoped>\n",
              "    .dataframe tbody tr th:only-of-type {\n",
              "        vertical-align: middle;\n",
              "    }\n",
              "\n",
              "    .dataframe tbody tr th {\n",
              "        vertical-align: top;\n",
              "    }\n",
              "\n",
              "    .dataframe thead th {\n",
              "        text-align: right;\n",
              "    }\n",
              "</style>\n",
              "<table border=\"1\" class=\"dataframe\">\n",
              "  <thead>\n",
              "    <tr style=\"text-align: right;\">\n",
              "      <th></th>\n",
              "      <th>date</th>\n",
              "      <th>adj_close</th>\n",
              "      <th>MACD</th>\n",
              "      <th>SIGNAL</th>\n",
              "      <th>buy_signal</th>\n",
              "      <th>sell_signal</th>\n",
              "    </tr>\n",
              "    <tr>\n",
              "      <th>None</th>\n",
              "      <th></th>\n",
              "      <th></th>\n",
              "      <th></th>\n",
              "      <th></th>\n",
              "      <th></th>\n",
              "      <th></th>\n",
              "    </tr>\n",
              "  </thead>\n",
              "  <tbody>\n",
              "    <tr>\n",
              "      <th>249</th>\n",
              "      <td>2017-01-03</td>\n",
              "      <td>116.86</td>\n",
              "      <td>0.000000</td>\n",
              "      <td>0.000000</td>\n",
              "      <td>NaN</td>\n",
              "      <td>NaN</td>\n",
              "    </tr>\n",
              "    <tr>\n",
              "      <th>248</th>\n",
              "      <td>2017-01-04</td>\n",
              "      <td>118.69</td>\n",
              "      <td>0.145983</td>\n",
              "      <td>0.081102</td>\n",
              "      <td>118.69</td>\n",
              "      <td>NaN</td>\n",
              "    </tr>\n",
              "    <tr>\n",
              "      <th>247</th>\n",
              "      <td>2017-01-05</td>\n",
              "      <td>120.67</td>\n",
              "      <td>0.416642</td>\n",
              "      <td>0.218618</td>\n",
              "      <td>NaN</td>\n",
              "      <td>NaN</td>\n",
              "    </tr>\n",
              "    <tr>\n",
              "      <th>246</th>\n",
              "      <td>2017-01-06</td>\n",
              "      <td>123.41</td>\n",
              "      <td>0.842524</td>\n",
              "      <td>0.429969</td>\n",
              "      <td>NaN</td>\n",
              "      <td>NaN</td>\n",
              "    </tr>\n",
              "    <tr>\n",
              "      <th>245</th>\n",
              "      <td>2017-01-09</td>\n",
              "      <td>124.90</td>\n",
              "      <td>1.285452</td>\n",
              "      <td>0.684455</td>\n",
              "      <td>NaN</td>\n",
              "      <td>NaN</td>\n",
              "    </tr>\n",
              "    <tr>\n",
              "      <th>...</th>\n",
              "      <td>...</td>\n",
              "      <td>...</td>\n",
              "      <td>...</td>\n",
              "      <td>...</td>\n",
              "      <td>...</td>\n",
              "      <td>...</td>\n",
              "    </tr>\n",
              "    <tr>\n",
              "      <th>4</th>\n",
              "      <td>2017-12-22</td>\n",
              "      <td>177.20</td>\n",
              "      <td>0.202792</td>\n",
              "      <td>0.336923</td>\n",
              "      <td>NaN</td>\n",
              "      <td>NaN</td>\n",
              "    </tr>\n",
              "    <tr>\n",
              "      <th>3</th>\n",
              "      <td>2017-12-26</td>\n",
              "      <td>175.99</td>\n",
              "      <td>0.007779</td>\n",
              "      <td>0.271094</td>\n",
              "      <td>NaN</td>\n",
              "      <td>NaN</td>\n",
              "    </tr>\n",
              "    <tr>\n",
              "      <th>2</th>\n",
              "      <td>2017-12-27</td>\n",
              "      <td>177.62</td>\n",
              "      <td>-0.015069</td>\n",
              "      <td>0.213861</td>\n",
              "      <td>NaN</td>\n",
              "      <td>NaN</td>\n",
              "    </tr>\n",
              "    <tr>\n",
              "      <th>1</th>\n",
              "      <td>2017-12-28</td>\n",
              "      <td>177.92</td>\n",
              "      <td>-0.008866</td>\n",
              "      <td>0.169316</td>\n",
              "      <td>NaN</td>\n",
              "      <td>NaN</td>\n",
              "    </tr>\n",
              "    <tr>\n",
              "      <th>0</th>\n",
              "      <td>2017-12-29</td>\n",
              "      <td>176.46</td>\n",
              "      <td>-0.120373</td>\n",
              "      <td>0.111378</td>\n",
              "      <td>NaN</td>\n",
              "      <td>NaN</td>\n",
              "    </tr>\n",
              "  </tbody>\n",
              "</table>\n",
              "<p>250 rows × 6 columns</p>\n",
              "</div>"
            ],
            "text/plain": [
              "           date  adj_close      MACD    SIGNAL  buy_signal  sell_signal\n",
              "None                                                                   \n",
              "249  2017-01-03     116.86  0.000000  0.000000         NaN          NaN\n",
              "248  2017-01-04     118.69  0.145983  0.081102      118.69          NaN\n",
              "247  2017-01-05     120.67  0.416642  0.218618         NaN          NaN\n",
              "246  2017-01-06     123.41  0.842524  0.429969         NaN          NaN\n",
              "245  2017-01-09     124.90  1.285452  0.684455         NaN          NaN\n",
              "...         ...        ...       ...       ...         ...          ...\n",
              "4    2017-12-22     177.20  0.202792  0.336923         NaN          NaN\n",
              "3    2017-12-26     175.99  0.007779  0.271094         NaN          NaN\n",
              "2    2017-12-27     177.62 -0.015069  0.213861         NaN          NaN\n",
              "1    2017-12-28     177.92 -0.008866  0.169316         NaN          NaN\n",
              "0    2017-12-29     176.46 -0.120373  0.111378         NaN          NaN\n",
              "\n",
              "[250 rows x 6 columns]"
            ]
          },
          "metadata": {
            "tags": []
          },
          "execution_count": 250
        }
      ]
    },
    {
      "cell_type": "code",
      "metadata": {
        "id": "dN8EsebSxorE",
        "colab_type": "code",
        "colab": {
          "base_uri": "https://localhost:8080/",
          "height": 35
        },
        "outputId": "0ca3c685-aecf-4ee4-b382-193b14e7d006"
      },
      "source": [
        "portfolio = 1000 #this is the initial money that we have with us\n",
        "\n",
        "days = len(data)\n",
        "\n",
        "nav = pd.DataFrame(index = data.tail(days).index) \n",
        "nav = nav.assign(leftover = np.zeros(days), stock = np.zeros(days))\n",
        "nav.iloc[0,0] = portfolio\n",
        "profit=0.0\n",
        "flag=0\n",
        "for i in reversed(range(0,len(data))):\n",
        "  leftover = nav.loc[:i].tail(2).head(1).iloc[0,0]\n",
        "\n",
        "  if not(np.isnan(data['buy_signal'][i])) and (np.isnan(data['sell_signal'][i])):\n",
        "    #buys the share\n",
        "    \n",
        "    nav['leftover'][i]=leftover-data['buy_signal'][i]\n",
        "    nav['stock'][i]=data['buy_signal'][i]\n",
        "    flag=1\n",
        "    #buys the share\n",
        "  elif (np.isnan(data['buy_signal'][i])) and not(np.isnan(data['sell_signal'][i])):\n",
        "    # sells the share\n",
        "    if flag==1:\n",
        "      nav['leftover'][i]=leftover+data['sell_signal'][i]\n",
        "    else:\n",
        "      nav['leftover'][i]=portfolio\n",
        "  else:\n",
        "    #hold\n",
        "    if flag==1:\n",
        "      nav['stock'][i]=data['adj_close'][i]\n",
        "      nav['leftover'][i]=leftover\n",
        "\n",
        "\n",
        "\n",
        "print(\"Profit is\",nav['leftover'][0]-nav['leftover'][days-1])\n",
        "\n",
        "\n"
      ],
      "execution_count": 262,
      "outputs": [
        {
          "output_type": "stream",
          "text": [
            "Profit is 55.47999999999956\n"
          ],
          "name": "stdout"
        }
      ]
    }
  ]
}